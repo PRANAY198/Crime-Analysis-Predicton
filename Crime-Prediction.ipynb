{
 "cells": [
  {
   "cell_type": "code",
   "execution_count": 2,
   "id": "418bb1b0",
   "metadata": {},
   "outputs": [],
   "source": [
    "import pandas as pd\n",
    "import numpy as np\n",
    "import matplotlib.pyplot as plt\n",
    "import seaborn as sns\n",
    "from sklearn.model_selection import train_test_split"
   ]
  },
  {
   "cell_type": "code",
   "execution_count": 8,
   "id": "b6b45042",
   "metadata": {},
   "outputs": [],
   "source": [
    "df=pd.read_csv(r'C:\\Users\\PRANAY\\Documents\\FULL STACK DATA SCIENCE jigsaw document\\data science projects\\Crime analysis\\train.csv')"
   ]
  },
  {
   "cell_type": "code",
   "execution_count": 9,
   "id": "ce658712",
   "metadata": {},
   "outputs": [
    {
     "data": {
      "text/html": [
       "<div>\n",
       "<style scoped>\n",
       "    .dataframe tbody tr th:only-of-type {\n",
       "        vertical-align: middle;\n",
       "    }\n",
       "\n",
       "    .dataframe tbody tr th {\n",
       "        vertical-align: top;\n",
       "    }\n",
       "\n",
       "    .dataframe thead th {\n",
       "        text-align: right;\n",
       "    }\n",
       "</style>\n",
       "<table border=\"1\" class=\"dataframe\">\n",
       "  <thead>\n",
       "    <tr style=\"text-align: right;\">\n",
       "      <th></th>\n",
       "      <th>land_area</th>\n",
       "      <th>percent_city</th>\n",
       "      <th>percent_senior</th>\n",
       "      <th>physicians</th>\n",
       "      <th>hospital_beds</th>\n",
       "      <th>graduates</th>\n",
       "      <th>labor</th>\n",
       "      <th>income</th>\n",
       "      <th>region</th>\n",
       "      <th>crime_rate</th>\n",
       "    </tr>\n",
       "  </thead>\n",
       "  <tbody>\n",
       "    <tr>\n",
       "      <th>0</th>\n",
       "      <td>1384</td>\n",
       "      <td>78.1</td>\n",
       "      <td>12.3</td>\n",
       "      <td>25627</td>\n",
       "      <td>69678</td>\n",
       "      <td>50.1</td>\n",
       "      <td>4083.9</td>\n",
       "      <td>72100</td>\n",
       "      <td>1</td>\n",
       "      <td>75.55</td>\n",
       "    </tr>\n",
       "    <tr>\n",
       "      <th>1</th>\n",
       "      <td>3719</td>\n",
       "      <td>43.9</td>\n",
       "      <td>9.4</td>\n",
       "      <td>13326</td>\n",
       "      <td>43292</td>\n",
       "      <td>53.9</td>\n",
       "      <td>3305.9</td>\n",
       "      <td>54542</td>\n",
       "      <td>2</td>\n",
       "      <td>56.03</td>\n",
       "    </tr>\n",
       "    <tr>\n",
       "      <th>2</th>\n",
       "      <td>3553</td>\n",
       "      <td>37.4</td>\n",
       "      <td>10.7</td>\n",
       "      <td>9724</td>\n",
       "      <td>33731</td>\n",
       "      <td>50.6</td>\n",
       "      <td>2066.3</td>\n",
       "      <td>33216</td>\n",
       "      <td>1</td>\n",
       "      <td>41.32</td>\n",
       "    </tr>\n",
       "    <tr>\n",
       "      <th>3</th>\n",
       "      <td>3916</td>\n",
       "      <td>29.9</td>\n",
       "      <td>8.8</td>\n",
       "      <td>6402</td>\n",
       "      <td>24167</td>\n",
       "      <td>52.2</td>\n",
       "      <td>1966.7</td>\n",
       "      <td>32906</td>\n",
       "      <td>2</td>\n",
       "      <td>67.38</td>\n",
       "    </tr>\n",
       "    <tr>\n",
       "      <th>4</th>\n",
       "      <td>2480</td>\n",
       "      <td>31.5</td>\n",
       "      <td>10.5</td>\n",
       "      <td>8502</td>\n",
       "      <td>16751</td>\n",
       "      <td>66.1</td>\n",
       "      <td>1514.5</td>\n",
       "      <td>26573</td>\n",
       "      <td>4</td>\n",
       "      <td>80.19</td>\n",
       "    </tr>\n",
       "  </tbody>\n",
       "</table>\n",
       "</div>"
      ],
      "text/plain": [
       "   land_area  percent_city  percent_senior  physicians  hospital_beds  \\\n",
       "0       1384          78.1            12.3       25627          69678   \n",
       "1       3719          43.9             9.4       13326          43292   \n",
       "2       3553          37.4            10.7        9724          33731   \n",
       "3       3916          29.9             8.8        6402          24167   \n",
       "4       2480          31.5            10.5        8502          16751   \n",
       "\n",
       "   graduates   labor  income  region  crime_rate  \n",
       "0       50.1  4083.9   72100       1       75.55  \n",
       "1       53.9  3305.9   54542       2       56.03  \n",
       "2       50.6  2066.3   33216       1       41.32  \n",
       "3       52.2  1966.7   32906       2       67.38  \n",
       "4       66.1  1514.5   26573       4       80.19  "
      ]
     },
     "execution_count": 9,
     "metadata": {},
     "output_type": "execute_result"
    }
   ],
   "source": [
    "df.head()"
   ]
  },
  {
   "cell_type": "code",
   "execution_count": 10,
   "id": "66291300",
   "metadata": {},
   "outputs": [
    {
     "data": {
      "text/html": [
       "<div>\n",
       "<style scoped>\n",
       "    .dataframe tbody tr th:only-of-type {\n",
       "        vertical-align: middle;\n",
       "    }\n",
       "\n",
       "    .dataframe tbody tr th {\n",
       "        vertical-align: top;\n",
       "    }\n",
       "\n",
       "    .dataframe thead th {\n",
       "        text-align: right;\n",
       "    }\n",
       "</style>\n",
       "<table border=\"1\" class=\"dataframe\">\n",
       "  <thead>\n",
       "    <tr style=\"text-align: right;\">\n",
       "      <th></th>\n",
       "      <th>count</th>\n",
       "      <th>mean</th>\n",
       "      <th>std</th>\n",
       "      <th>min</th>\n",
       "      <th>25%</th>\n",
       "      <th>50%</th>\n",
       "      <th>75%</th>\n",
       "      <th>max</th>\n",
       "    </tr>\n",
       "  </thead>\n",
       "  <tbody>\n",
       "    <tr>\n",
       "      <th>land_area</th>\n",
       "      <td>99.0</td>\n",
       "      <td>2615.727273</td>\n",
       "      <td>3045.826210</td>\n",
       "      <td>47.00</td>\n",
       "      <td>1408.000</td>\n",
       "      <td>1951.00</td>\n",
       "      <td>2890.50</td>\n",
       "      <td>27293.00</td>\n",
       "    </tr>\n",
       "    <tr>\n",
       "      <th>percent_city</th>\n",
       "      <td>99.0</td>\n",
       "      <td>42.518182</td>\n",
       "      <td>17.348277</td>\n",
       "      <td>13.40</td>\n",
       "      <td>30.100</td>\n",
       "      <td>39.50</td>\n",
       "      <td>52.60</td>\n",
       "      <td>100.00</td>\n",
       "    </tr>\n",
       "    <tr>\n",
       "      <th>percent_senior</th>\n",
       "      <td>99.0</td>\n",
       "      <td>9.781818</td>\n",
       "      <td>2.524547</td>\n",
       "      <td>3.90</td>\n",
       "      <td>8.350</td>\n",
       "      <td>9.70</td>\n",
       "      <td>10.75</td>\n",
       "      <td>21.80</td>\n",
       "    </tr>\n",
       "    <tr>\n",
       "      <th>physicians</th>\n",
       "      <td>99.0</td>\n",
       "      <td>1828.333333</td>\n",
       "      <td>3192.199763</td>\n",
       "      <td>140.00</td>\n",
       "      <td>459.000</td>\n",
       "      <td>774.00</td>\n",
       "      <td>1911.50</td>\n",
       "      <td>25627.00</td>\n",
       "    </tr>\n",
       "    <tr>\n",
       "      <th>hospital_beds</th>\n",
       "      <td>99.0</td>\n",
       "      <td>6345.868687</td>\n",
       "      <td>9136.202716</td>\n",
       "      <td>481.00</td>\n",
       "      <td>2390.000</td>\n",
       "      <td>3472.00</td>\n",
       "      <td>6386.50</td>\n",
       "      <td>69678.00</td>\n",
       "    </tr>\n",
       "    <tr>\n",
       "      <th>graduates</th>\n",
       "      <td>99.0</td>\n",
       "      <td>54.463636</td>\n",
       "      <td>7.773286</td>\n",
       "      <td>30.30</td>\n",
       "      <td>50.250</td>\n",
       "      <td>54.00</td>\n",
       "      <td>58.30</td>\n",
       "      <td>72.80</td>\n",
       "    </tr>\n",
       "    <tr>\n",
       "      <th>labor</th>\n",
       "      <td>99.0</td>\n",
       "      <td>449.366667</td>\n",
       "      <td>610.990885</td>\n",
       "      <td>66.90</td>\n",
       "      <td>150.300</td>\n",
       "      <td>257.20</td>\n",
       "      <td>436.50</td>\n",
       "      <td>4083.90</td>\n",
       "    </tr>\n",
       "    <tr>\n",
       "      <th>income</th>\n",
       "      <td>99.0</td>\n",
       "      <td>6762.505051</td>\n",
       "      <td>10393.349660</td>\n",
       "      <td>769.00</td>\n",
       "      <td>2003.000</td>\n",
       "      <td>3510.00</td>\n",
       "      <td>6283.50</td>\n",
       "      <td>72100.00</td>\n",
       "    </tr>\n",
       "    <tr>\n",
       "      <th>region</th>\n",
       "      <td>99.0</td>\n",
       "      <td>2.494949</td>\n",
       "      <td>1.013921</td>\n",
       "      <td>1.00</td>\n",
       "      <td>2.000</td>\n",
       "      <td>3.00</td>\n",
       "      <td>3.00</td>\n",
       "      <td>4.00</td>\n",
       "    </tr>\n",
       "    <tr>\n",
       "      <th>crime_rate</th>\n",
       "      <td>99.0</td>\n",
       "      <td>55.643030</td>\n",
       "      <td>13.470943</td>\n",
       "      <td>23.32</td>\n",
       "      <td>46.115</td>\n",
       "      <td>56.06</td>\n",
       "      <td>63.86</td>\n",
       "      <td>85.62</td>\n",
       "    </tr>\n",
       "  </tbody>\n",
       "</table>\n",
       "</div>"
      ],
      "text/plain": [
       "                count         mean           std     min       25%      50%  \\\n",
       "land_area        99.0  2615.727273   3045.826210   47.00  1408.000  1951.00   \n",
       "percent_city     99.0    42.518182     17.348277   13.40    30.100    39.50   \n",
       "percent_senior   99.0     9.781818      2.524547    3.90     8.350     9.70   \n",
       "physicians       99.0  1828.333333   3192.199763  140.00   459.000   774.00   \n",
       "hospital_beds    99.0  6345.868687   9136.202716  481.00  2390.000  3472.00   \n",
       "graduates        99.0    54.463636      7.773286   30.30    50.250    54.00   \n",
       "labor            99.0   449.366667    610.990885   66.90   150.300   257.20   \n",
       "income           99.0  6762.505051  10393.349660  769.00  2003.000  3510.00   \n",
       "region           99.0     2.494949      1.013921    1.00     2.000     3.00   \n",
       "crime_rate       99.0    55.643030     13.470943   23.32    46.115    56.06   \n",
       "\n",
       "                    75%       max  \n",
       "land_area       2890.50  27293.00  \n",
       "percent_city      52.60    100.00  \n",
       "percent_senior    10.75     21.80  \n",
       "physicians      1911.50  25627.00  \n",
       "hospital_beds   6386.50  69678.00  \n",
       "graduates         58.30     72.80  \n",
       "labor            436.50   4083.90  \n",
       "income          6283.50  72100.00  \n",
       "region             3.00      4.00  \n",
       "crime_rate        63.86     85.62  "
      ]
     },
     "execution_count": 10,
     "metadata": {},
     "output_type": "execute_result"
    }
   ],
   "source": [
    "df.describe().T"
   ]
  },
  {
   "cell_type": "code",
   "execution_count": 11,
   "id": "7a5210f5",
   "metadata": {},
   "outputs": [
    {
     "name": "stdout",
     "output_type": "stream",
     "text": [
      "<class 'pandas.core.frame.DataFrame'>\n",
      "RangeIndex: 99 entries, 0 to 98\n",
      "Data columns (total 10 columns):\n",
      " #   Column          Non-Null Count  Dtype  \n",
      "---  ------          --------------  -----  \n",
      " 0   land_area       99 non-null     int64  \n",
      " 1   percent_city    99 non-null     float64\n",
      " 2   percent_senior  99 non-null     float64\n",
      " 3   physicians      99 non-null     int64  \n",
      " 4   hospital_beds   99 non-null     int64  \n",
      " 5   graduates       99 non-null     float64\n",
      " 6   labor           99 non-null     float64\n",
      " 7   income          99 non-null     int64  \n",
      " 8   region          99 non-null     int64  \n",
      " 9   crime_rate      99 non-null     float64\n",
      "dtypes: float64(5), int64(5)\n",
      "memory usage: 7.9 KB\n"
     ]
    }
   ],
   "source": [
    "df.info()"
   ]
  },
  {
   "cell_type": "code",
   "execution_count": 15,
   "id": "9b010763",
   "metadata": {},
   "outputs": [
    {
     "data": {
      "text/plain": [
       "70.66    2.020202\n",
       "75.55    1.010101\n",
       "56.06    1.010101\n",
       "61.46    1.010101\n",
       "23.32    1.010101\n",
       "           ...   \n",
       "45.14    1.010101\n",
       "59.48    1.010101\n",
       "38.75    1.010101\n",
       "53.15    1.010101\n",
       "68.76    1.010101\n",
       "Name: crime_rate, Length: 98, dtype: float64"
      ]
     },
     "execution_count": 15,
     "metadata": {},
     "output_type": "execute_result"
    }
   ],
   "source": [
    "df['crime_rate'].value_counts(normalize=True)*100"
   ]
  },
  {
   "cell_type": "code",
   "execution_count": 16,
   "id": "7947e281",
   "metadata": {},
   "outputs": [
    {
     "data": {
      "text/plain": [
       "array([[<AxesSubplot:title={'center':'crime_rate'}>]], dtype=object)"
      ]
     },
     "execution_count": 16,
     "metadata": {},
     "output_type": "execute_result"
    },
    {
     "data": {
      "image/png": "[encoded data removed]",
      "text/plain": [
       "<Figure size 432x288 with 1 Axes>"
      ]
     },
     "metadata": {
      "needs_background": "light"
     },
     "output_type": "display_data"
    }
   ],
   "source": [
    "df.hist('crime_rate')"
   ]
  },
  {
   "cell_type": "code",
   "execution_count": 20,
   "id": "3b410188",
   "metadata": {},
   "outputs": [
    {
     "data": {
      "text/plain": [
       "<AxesSubplot:>"
      ]
     },
     "execution_count": 20,
     "metadata": {},
     "output_type": "execute_result"
    },
    {
     "data": {
      "image/png": "[encoded data removed]",
      "text/plain": [
       "<Figure size 432x288 with 2 Axes>"
      ]
     },
     "metadata": {
      "needs_background": "light"
     },
     "output_type": "display_data"
    }
   ],
   "source": [
    "sns.heatmap(df.corr(),annot=True)"
   ]
  },
  {
   "cell_type": "code",
   "execution_count": 26,
   "id": "b93a7993",
   "metadata": {},
   "outputs": [],
   "source": [
    "df=df.drop(df[['hospital_beds','labor']],axis=1)"
   ]
  },
  {
   "cell_type": "code",
   "execution_count": 27,
   "id": "7819de87",
   "metadata": {},
   "outputs": [],
   "source": [
    "X=df.drop('crime_rate',axis=1)\n",
    "y=df['crime_rate']"
   ]
  },
  {
   "cell_type": "code",
   "execution_count": 28,
   "id": "8db8e611",
   "metadata": {},
   "outputs": [],
   "source": [
    "X_train, X_test, y_train, y_test = train_test_split(X, y, test_size=0.33, random_state=42)"
   ]
  },
  {
   "cell_type": "code",
   "execution_count": 29,
   "id": "135e2f5c",
   "metadata": {},
   "outputs": [
    {
     "data": {
      "text/plain": [
       "(66, 7)"
      ]
     },
     "execution_count": 29,
     "metadata": {},
     "output_type": "execute_result"
    }
   ],
   "source": [
    "X_train.shape"
   ]
  },
  {
   "cell_type": "code",
   "execution_count": 31,
   "id": "cd4dc891",
   "metadata": {},
   "outputs": [],
   "source": [
    "from sklearn.preprocessing import StandardScaler\n",
    "scaler=StandardScaler()"
   ]
  },
  {
   "cell_type": "code",
   "execution_count": 32,
   "id": "11dd5d59",
   "metadata": {},
   "outputs": [],
   "source": [
    "X_train_scaler=scaler.fit_transform(X_train)\n",
    "X_test_scaler=scaler.transform(X_test)"
   ]
  },
  {
   "cell_type": "code",
   "execution_count": 33,
   "id": "1afc419c",
   "metadata": {},
   "outputs": [
    {
     "data": {
      "text/plain": [
       "array([[-0.5247967 , -0.35234296,  0.80329261, -0.23258932, -0.46875268,\n",
       "        -0.25742793, -1.51102075],\n",
       "       [ 0.15340502, -1.26887521, -1.09915665,  2.53598236,  1.99634274,\n",
       "         2.16367173,  0.54521367],\n",
       "       [-0.57101412, -0.66838856, -0.09408911, -0.3450501 , -0.08950723,\n",
       "        -0.30533402, -0.48290354],\n",
       "       [-0.08131717,  0.62739841,  0.30075885, -0.46370949, -0.77506631,\n",
       "        -0.47920294,  0.54521367],\n",
       "       [-0.8394906 , -0.3713057 , -0.05819385, -0.29413282,  0.14387458,\n",
       "        -0.24402763, -0.48290354],\n",
       "       [-0.24645357, -0.37762661,  4.17744792,  0.14906889, -0.57085722,\n",
       "         0.1900305 ,  0.54521367],\n",
       "       [ 0.07187541, -0.26385019,  0.87508315, -0.55226128, -0.68754813,\n",
       "        -0.49416661, -1.51102075],\n",
       "       [ 0.35281501,  2.36564922, -0.38125127, -0.27863625, -0.55627086,\n",
       "        -0.2412359 ,  0.54521367],\n",
       "       [ 2.21968726,  1.06986225, -1.24273773,  1.30599801, -0.42499359,\n",
       "         1.33262963,  0.54521367],\n",
       "       [-1.20871067,  1.0951459 ,  0.37254938, -0.44068603, -1.53355721,\n",
       "        -0.34944334, -1.51102075],\n",
       "       [ 0.43538322, -0.51036576,  0.55202573,  0.0162412 , -1.4168663 ,\n",
       "        -0.15033718,  0.54521367],\n",
       "       [ 0.42655517, -0.46611938,  0.1212825 ,  0.29960693,  0.77108821,\n",
       "         0.31476499, -0.48290354],\n",
       "       [-0.53310545,  1.36694511, -0.30946073, -0.33176733, -0.13326632,\n",
       "        -0.5025418 ,  0.54521367],\n",
       "       [ 0.47484978, -0.90226231, -0.52483234,  0.1025792 ,  1.52957911,\n",
       "        -0.04224141,  1.57333088],\n",
       "       [ 1.78970945, -0.23224563, -0.05819385, -0.38755496, -0.27912995,\n",
       "        -0.36630539,  1.57333088],\n",
       "       [-0.90232552, -0.93386687, -0.70430869,  0.66709685,  2.31724274,\n",
       "         0.70393211,  1.57333088],\n",
       "       [ 0.23181884, -1.02868055,  0.19307304,  0.19511582,  0.24597913,\n",
       "         0.07579292, -1.51102075],\n",
       "       [ 0.72515087, -0.83905319, -0.345356  ,  2.12067447, -0.35206177,\n",
       "         2.97249166, -0.48290354],\n",
       "       [-0.1924467 , -0.8453741 ,  0.30075885,  0.40631183, -0.90634358,\n",
       "         0.30705981, -0.48290354],\n",
       "       [-0.29526748, -0.93386687,  1.70067434, -0.40570807, -0.9792754 ,\n",
       "        -0.29260373, -1.51102075],\n",
       "       [ 0.27492048, -1.49642804,  0.83918788,  1.05938128, -0.17702541,\n",
       "         1.06518193, -1.51102075],\n",
       "       [-0.51596865,  1.80308804, -0.74020396, -0.53100885, -1.09596631,\n",
       "        -0.51315037,  0.54521367],\n",
       "       [ 3.03290616,  0.19757639, -0.56072761,  1.07797715, -0.14785268,\n",
       "         1.34703496,  0.54521367],\n",
       "       [-0.45105654,  1.35430329, -0.30946073, -0.37117287,  0.2168064 ,\n",
       "        -0.50957696,  0.54521367],\n",
       "       [-0.05223654, -0.97179234,  0.04949196, -0.16041962,  0.46477458,\n",
       "        -0.27105157, -1.51102075],\n",
       "       [-0.9391956 , -0.04893918, -1.31452827, -0.08913543,  1.87965183,\n",
       "        -0.50220679, -0.48290354],\n",
       "       [-0.1259767 , -0.23224563, -0.8119945 , -0.48717572,  1.06281548,\n",
       "        -0.38350245, -0.48290354],\n",
       "       [-0.96879552, -0.90858322, -2.10422419, -0.65188205,  0.07094277,\n",
       "        -0.57389841,  0.54521367],\n",
       "       [-0.3409656 ,  0.45673378, -0.74020396, -0.41544877,  1.33995639,\n",
       "        -0.39533938,  1.57333088],\n",
       "       [-1.14639505, -1.49642804, -0.8119945 , -0.37338667,  0.0563564 ,\n",
       "        -0.21611033, -1.51102075],\n",
       "       [-0.50194763,  0.43145013, -0.63251815,  0.26330069, -0.3812345 ,\n",
       "        -0.3680921 ,  0.54521367],\n",
       "       [-0.53518263,  0.98769039, -0.09408911, -0.3105149 ,  0.27515186,\n",
       "        -0.4492756 ,  0.54521367],\n",
       "       [-1.28400872, -0.08054374,  0.76739735, -0.38401288, -2.67129356,\n",
       "        -0.26490977, -1.51102075],\n",
       "       [ 2.92489241, -1.3194425 , -0.23767019, -0.53455093, -0.42499359,\n",
       "        -0.45005728,  1.57333088],\n",
       "       [-0.03665764,  1.59449795, -0.05819385, -0.41234946,  1.25243821,\n",
       "        -0.40605962, -0.48290354],\n",
       "       [-0.78340654, -0.33970114,  0.26486358, -0.59697994,  2.34641546,\n",
       "        -0.55279294,  0.54521367],\n",
       "       [-0.39549178, -0.63046309,  0.65971154, -0.58281165, -1.35852085,\n",
       "        -0.5188455 ,  0.54521367],\n",
       "       [-0.51648795,  0.79174212, -0.52483234, -0.38135633, -1.4168663 ,\n",
       "        -0.28032012,  0.54521367],\n",
       "       [-0.46507756, -1.88200367,  0.44433992, -0.34549286,  0.11470186,\n",
       "        -0.37992903, -1.51102075],\n",
       "       [-0.69460677, -0.68103039, -0.84788977, -0.48451916, -0.32288904,\n",
       "        -0.2970705 , -0.48290354],\n",
       "       [-0.42716888, -1.22462882, -0.91968031, -0.56421577, -0.52709813,\n",
       "        -0.55089456,  0.54521367],\n",
       "       [-0.75951888,  3.00406133, -1.31452827, -0.50178676, -0.51251177,\n",
       "        -0.47741623,  0.54521367],\n",
       "       [-0.23295186, -1.47114439,  0.55202573, -0.50577159,  0.62522458,\n",
       "        -0.50310015, -1.51102075],\n",
       "       [ 0.81031556,  1.03825769,  0.04949196, -0.00678226, -1.06679358,\n",
       "        -0.18841638,  0.54521367],\n",
       "       [ 1.05542368,  0.70957026, -0.23767019, -0.56820061,  1.06281548,\n",
       "        -0.54732115,  1.57333088],\n",
       "       [-0.43807412, -0.41555208, -0.20177492, -0.49027503,  0.88777912,\n",
       "        -0.40181619,  1.57333088],\n",
       "       [-0.54764576, -0.81376954, -1.06326138, -0.44909845, -0.58544359,\n",
       "        -0.45631076,  0.54521367],\n",
       "       [-0.57932287, -0.29545475,  0.08538723, -0.58148337,  0.23139277,\n",
       "        -0.50377016, -0.48290354],\n",
       "       [-0.82131521,  0.3113528 , -0.84788977, -0.44201431, -0.67296177,\n",
       "        -0.23565244, -0.48290354],\n",
       "       [-0.17271342,  0.24182277,  0.15717777, -0.22771898, -0.39582086,\n",
       "        -0.12789168, -0.48290354],\n",
       "       [ 0.62284939,  0.0458745 , -0.12998438,  5.18633741, -0.10409359,\n",
       "         5.38856621, -0.48290354],\n",
       "       [ 0.12795947,  1.56289339, -0.74020396, -0.41323497,  0.24597913,\n",
       "        -0.41197809,  0.54521367],\n",
       "       [ 0.28686431,  1.5692143 , -0.16587965,  0.25178896,  0.20222004,\n",
       "         0.1617782 , -0.48290354],\n",
       "       [ 0.53664611, -0.36498478,  0.33665412,  3.59151969, -0.58544359,\n",
       "         3.00710911, -1.51102075],\n",
       "       [-0.03094537,  0.40616648, -0.48893708,  0.11586197,  0.77108821,\n",
       "         0.04139881, -0.48290354],\n",
       "       [ 2.53282327,  0.26078551,  0.98276896, -0.55668887,  0.23139277,\n",
       "        -0.5173938 , -0.48290354],\n",
       "       [-0.26307107,  1.17099684, -0.02229858, -0.59299511, -0.5416845 ,\n",
       "        -0.54441775,  0.54521367],\n",
       "       [-0.57516849, -0.25120837,  0.55202573, -0.5208254 , -0.76047995,\n",
       "        -0.46781268,  1.57333088],\n",
       "       [-0.88622732,  0.17861365,  0.01359669, -0.58413993,  0.55229276,\n",
       "        -0.51359705, -1.51102075],\n",
       "       [-0.28280435,  0.21021821,  1.01866423, -0.53455093, -0.45416632,\n",
       "        -0.49517163, -0.48290354],\n",
       "       [ 3.44574717,  0.67164479,  0.48023519,  0.2956221 ,  0.80026094,\n",
       "         0.16512827,  1.57333088],\n",
       "       [-0.21321857, -0.12479013,  0.19307304, -0.48363365, -1.37310721,\n",
       "        -0.44436215,  0.54521367],\n",
       "       [-0.71849443,  0.97504857, -0.02229858, -0.51551229,  1.96717001,\n",
       "        -0.43453527, -0.48290354],\n",
       "       [ 0.8861329 , -0.3207384 ,  0.01359669,  0.74059484,  1.92341092,\n",
       "         0.51710955,  1.57333088],\n",
       "       [-1.06382685,  0.19757639, -0.41714654, -0.61690409, -0.99386176,\n",
       "        -0.53928096, -0.48290354],\n",
       "       [-0.2578781 , -1.33208433,  4.32102899, -0.38091357,  0.15846095,\n",
       "        -0.3354847 ,  0.54521367]])"
      ]
     },
     "execution_count": 33,
     "metadata": {},
     "output_type": "execute_result"
    }
   ],
   "source": [
    "X_train_scaler"
   ]
  },
  {
   "cell_type": "code",
   "execution_count": 34,
   "id": "5fde0c7a",
   "metadata": {
    "scrolled": true
   },
   "outputs": [
    {
     "data": {
      "text/plain": [
       "array([[ 5.11035329e-02, -7.25276770e-01, -1.31452827e+00,\n",
       "        -3.43721820e-01, -9.64689036e-01, -4.79649617e-01,\n",
       "         5.45213671e-01],\n",
       "       [ 1.63963266e+00,  7.98063030e-01,  2.64863577e-01,\n",
       "        -3.77371500e-01,  2.31392765e-01, -2.51509466e-01,\n",
       "         5.45213671e-01],\n",
       "       [-5.07140602e-01, -2.25924720e-01, -5.96622883e-01,\n",
       "        -6.43469626e-01, -3.54647536e+00, -6.16221034e-01,\n",
       "         5.45213671e-01],\n",
       "       [ 1.28647538e+01, -1.12981514e+00,  9.10978422e-01,\n",
       "         1.79619254e-01,  4.06429126e-01,  1.24145682e-01,\n",
       "         1.57333088e+00],\n",
       "       [-8.86227317e-01, -1.88200367e+00,  4.08444654e-01,\n",
       "        -5.49604729e-01,  4.93947307e-01, -5.24652300e-01,\n",
       "        -1.51102075e+00],\n",
       "       [ 1.12899860e-01,  1.15404530e-01,  2.64863577e-01,\n",
       "        -4.47327413e-01,  2.43393364e+00, -4.80989648e-01,\n",
       "         1.57333088e+00],\n",
       "       [-4.23533806e-01,  5.64189285e-01,  2.64863577e-01,\n",
       "        -5.46062658e-01,  1.43874585e-01, -4.04831261e-01,\n",
       "        -4.82903537e-01],\n",
       "       [ 4.36681459e-03, -1.51539078e+00,  1.57177770e-01,\n",
       "        -3.60546660e-01,  1.14701858e-01, -3.12480843e-01,\n",
       "         5.45213671e-01],\n",
       "       [-7.84964428e-01, -1.67973449e+00,  1.93073039e-01,\n",
       "         1.05982404e+00,  1.87633675e-01,  1.07936392e+00,\n",
       "        -1.51102075e+00],\n",
       "       [-5.89708805e-01,  2.20762641e+00,  9.10978422e-01,\n",
       "         1.06327152e+01, -6.58375404e-01,  7.34925381e+00,\n",
       "        -1.51102075e+00],\n",
       "       [ 5.04449700e-01,  3.36636452e-01, -2.22985763e-02,\n",
       "        -5.15009155e-02,  7.27329122e-01, -1.66305876e-01,\n",
       "         5.45213671e-01],\n",
       "       [-8.60781771e-01, -1.06660602e+00,  1.30582638e+00,\n",
       "        -5.26581264e-01, -1.65024812e+00, -4.77639572e-01,\n",
       "        -1.51102075e+00],\n",
       "       [-2.10102793e-01, -1.47114439e+00, -2.37670191e-01,\n",
       "        -4.14563251e-01, -2.30663447e+00, -3.71330505e-01,\n",
       "         5.45213671e-01],\n",
       "       [-5.85554430e-01, -3.77626608e-01,  1.35966929e-02,\n",
       "        -1.47519231e-02, -1.18348449e+00, -6.50219226e-02,\n",
       "         5.45213671e-01],\n",
       "       [-5.10256384e-01,  1.30373599e+00, -3.81251268e-01,\n",
       "        -1.67503759e-01,  1.17950639e+00, -2.86126915e-01,\n",
       "        -4.82903537e-01],\n",
       "       [-2.05594352e-02, -7.37918595e-01,  2.64863577e-01,\n",
       "         3.05046826e+00,  1.67544274e+00,  2.26529069e+00,\n",
       "         1.57333088e+00],\n",
       "       [-2.86958729e-01,  5.00980165e-01, -3.45355999e-01,\n",
       "         4.01884245e-01, -1.28558903e+00,  8.38331049e-02,\n",
       "         5.45213671e-01],\n",
       "       [ 9.38062587e-01, -1.23727065e+00, -8.83785037e-01,\n",
       "         6.42745111e-01, -6.14616313e-01,  6.49884218e-01,\n",
       "         5.45213671e-01],\n",
       "       [-7.12262866e-01,  1.34367266e-01,  4.80235192e-01,\n",
       "        -3.19370078e-01, -8.95072301e-02, -3.10135790e-01,\n",
       "        -1.51102075e+00],\n",
       "       [-3.95491775e-01,  8.61272151e-01,  6.23816269e-01,\n",
       "        -4.63709494e-01,  1.55875184e+00, -4.85568084e-01,\n",
       "         1.57333088e+00],\n",
       "       [-7.03434819e-01, -1.81247364e+00, -4.17146537e-01,\n",
       "        -3.83570125e-01, -3.11617764e-02, -2.86238584e-01,\n",
       "         5.45213671e-01],\n",
       "       [-8.17160834e-01, -1.69237631e+00,  4.80235192e-01,\n",
       "        -5.51818524e-01, -1.56272994e+00, -4.58879148e-01,\n",
       "        -1.51102075e+00],\n",
       "       [-9.68276223e-01,  2.02431997e+00, -1.13505192e+00,\n",
       "        -5.25695746e-01, -4.39579952e-01, -4.68929375e-01,\n",
       "         5.45213671e-01],\n",
       "       [-5.52319430e-01,  2.22860035e-01,  2.28968308e-01,\n",
       "         3.85944923e-01,  3.18910946e-01,  4.26210835e-01,\n",
       "        -4.82903537e-01],\n",
       "       [-5.34663336e-01, -6.36784002e-01,  7.67397346e-01,\n",
       "        -3.47706650e-01, -1.05220722e+00, -2.39337525e-01,\n",
       "        -1.51102075e+00],\n",
       "       [-9.98914738e-01,  3.59190615e+00, -1.35042354e+00,\n",
       "        -1.55992027e-01,  1.66085638e+00, -1.23536577e-01,\n",
       "         1.57333088e+00],\n",
       "       [ 1.10475688e+00, -7.37918595e-01, -2.01774922e-01,\n",
       "         1.01997573e+00,  1.52957911e+00,  9.21798691e-01,\n",
       "        -4.82903537e-01],\n",
       "       [ 9.88788449e-02,  1.29741508e+00, -1.27863300e+00,\n",
       "        -5.55803355e-01,  2.65272909e+00, -5.19068841e-01,\n",
       "         1.57333088e+00],\n",
       "       [-5.19603727e-01, -7.18955858e-01,  2.64863577e-01,\n",
       "         1.09878683e+00, -1.98904956e-03,  9.37655716e-01,\n",
       "        -4.82903537e-01],\n",
       "       [-3.99646150e-01,  3.87203748e-01, -2.22985763e-02,\n",
       "        -5.16397808e-01,  5.23120034e-01, -4.29733490e-01,\n",
       "        -4.82903537e-01],\n",
       "       [-5.23758102e-01, -2.82812928e-01,  3.36654116e-01,\n",
       "        -5.59788185e-01, -6.14616313e-01, -5.39950979e-01,\n",
       "         1.57333088e+00],\n",
       "       [ 3.60604467e-01,  2.86069155e-01, -1.29984384e-01,\n",
       "        -1.44923053e-01, -2.08783902e+00, -1.52235558e-01,\n",
       "         5.45213671e-01],\n",
       "       [ 5.42193141e-02, -8.07448627e-01,  8.75083153e-01,\n",
       "        -3.55615935e-02,  8.55291310e-02, -1.33251796e-01,\n",
       "        -1.51102075e+00]])"
      ]
     },
     "execution_count": 34,
     "metadata": {},
     "output_type": "execute_result"
    }
   ],
   "source": [
    "X_test_scaler"
   ]
  },
  {
   "cell_type": "code",
   "execution_count": 41,
   "id": "f9116b32",
   "metadata": {},
   "outputs": [
    {
     "data": {
      "text/plain": [
       "Text(0, 0.5, 'income')"
      ]
     },
     "execution_count": 41,
     "metadata": {},
     "output_type": "execute_result"
    },
    {
     "data": {
      "image/png": "[encoded data removed]",
      "text/plain": [
       "<Figure size 432x288 with 1 Axes>"
      ]
     },
     "metadata": {
      "needs_background": "light"
     },
     "output_type": "display_data"
    }
   ],
   "source": [
    "plt.scatter(df['crime_rate'],df['income'])\n",
    "plt.xlabel('crime_rate')\n",
    "plt.ylabel('income')"
   ]
  },
  {
   "cell_type": "code",
   "execution_count": 42,
   "id": "b7feab2f",
   "metadata": {},
   "outputs": [
    {
     "data": {
      "text/plain": [
       "Text(0, 0.5, 'region')"
      ]
     },
     "execution_count": 42,
     "metadata": {},
     "output_type": "execute_result"
    },
    {
     "data": {
      "image/png": "[encoded data removed]",
      "text/plain": [
       "<Figure size 432x288 with 1 Axes>"
      ]
     },
     "metadata": {
      "needs_background": "light"
     },
     "output_type": "display_data"
    }
   ],
   "source": [
    "plt.scatter(df['crime_rate'],df['region'])\n",
    "plt.xlabel('crime_rate')\n",
    "plt.ylabel('region')"
   ]
  },
  {
   "cell_type": "code",
   "execution_count": 43,
   "id": "91c382b9",
   "metadata": {},
   "outputs": [
    {
     "data": {
      "image/png": "[encoded data removed]",
      "text/plain": [
       "<Figure size 720x720 with 9 Axes>"
      ]
     },
     "metadata": {
      "needs_background": "light"
     },
     "output_type": "display_data"
    }
   ],
   "source": [
    "df.hist(bins=20,figsize=(10,10))\n",
    "plt.show()"
   ]
  },
  {
   "cell_type": "code",
   "execution_count": 60,
   "id": "b0ef5aba",
   "metadata": {},
   "outputs": [
    {
     "data": {
      "text/plain": [
       "221.21826264084052"
      ]
     },
     "execution_count": 60,
     "metadata": {},
     "output_type": "execute_result"
    }
   ],
   "source": [
    "from sklearn import linear_model\n",
    "from sklearn.metrics import mean_squared_error \n",
    "lin   = linear_model.LinearRegression()\n",
    "lin.fit(X_train,y_train)\n",
    "preds = lin.predict(X_test)\n",
    "mean_squared_error(y_test,preds)\n"
   ]
  },
  {
   "cell_type": "code",
   "execution_count": 57,
   "id": "21b7b988",
   "metadata": {},
   "outputs": [
    {
     "data": {
      "text/html": [
       "<table class=\"simpletable\">\n",
       "<caption>OLS Regression Results</caption>\n",
       "<tr>\n",
       "  <th>Dep. Variable:</th>       <td>crime_rate</td>    <th>  R-squared (uncentered):</th>      <td>   0.971</td>\n",
       "</tr>\n",
       "<tr>\n",
       "  <th>Model:</th>                   <td>OLS</td>       <th>  Adj. R-squared (uncentered):</th> <td>   0.968</td>\n",
       "</tr>\n",
       "<tr>\n",
       "  <th>Method:</th>             <td>Least Squares</td>  <th>  F-statistic:       </th>          <td>   286.6</td>\n",
       "</tr>\n",
       "<tr>\n",
       "  <th>Date:</th>             <td>Sun, 16 Oct 2022</td> <th>  Prob (F-statistic):</th>          <td>4.30e-43</td>\n",
       "</tr>\n",
       "<tr>\n",
       "  <th>Time:</th>                 <td>16:22:16</td>     <th>  Log-Likelihood:    </th>          <td> -244.34</td>\n",
       "</tr>\n",
       "<tr>\n",
       "  <th>No. Observations:</th>      <td>    66</td>      <th>  AIC:               </th>          <td>   502.7</td>\n",
       "</tr>\n",
       "<tr>\n",
       "  <th>Df Residuals:</th>          <td>    59</td>      <th>  BIC:               </th>          <td>   518.0</td>\n",
       "</tr>\n",
       "<tr>\n",
       "  <th>Df Model:</th>              <td>     7</td>      <th>                     </th>              <td> </td>   \n",
       "</tr>\n",
       "<tr>\n",
       "  <th>Covariance Type:</th>      <td>nonrobust</td>    <th>                     </th>              <td> </td>   \n",
       "</tr>\n",
       "</table>\n",
       "<table class=\"simpletable\">\n",
       "<tr>\n",
       "         <td></td>           <th>coef</th>     <th>std err</th>      <th>t</th>      <th>P>|t|</th>  <th>[0.025</th>    <th>0.975]</th>  \n",
       "</tr>\n",
       "<tr>\n",
       "  <th>land_area</th>      <td>    0.0005</td> <td>    0.001</td> <td>    0.714</td> <td> 0.478</td> <td>   -0.001</td> <td>    0.002</td>\n",
       "</tr>\n",
       "<tr>\n",
       "  <th>percent_city</th>   <td>    0.0916</td> <td>    0.077</td> <td>    1.186</td> <td> 0.240</td> <td>   -0.063</td> <td>    0.246</td>\n",
       "</tr>\n",
       "<tr>\n",
       "  <th>percent_senior</th> <td>    0.3200</td> <td>    0.400</td> <td>    0.801</td> <td> 0.426</td> <td>   -0.479</td> <td>    1.120</td>\n",
       "</tr>\n",
       "<tr>\n",
       "  <th>physicians</th>     <td>   -0.0058</td> <td>    0.003</td> <td>   -1.929</td> <td> 0.059</td> <td>   -0.012</td> <td>    0.000</td>\n",
       "</tr>\n",
       "<tr>\n",
       "  <th>graduates</th>      <td>    0.4889</td> <td>    0.109</td> <td>    4.482</td> <td> 0.000</td> <td>    0.271</td> <td>    0.707</td>\n",
       "</tr>\n",
       "<tr>\n",
       "  <th>income</th>         <td>    0.0016</td> <td>    0.001</td> <td>    2.062</td> <td> 0.044</td> <td> 4.61e-05</td> <td>    0.003</td>\n",
       "</tr>\n",
       "<tr>\n",
       "  <th>region</th>         <td>    8.3830</td> <td>    1.510</td> <td>    5.553</td> <td> 0.000</td> <td>    5.362</td> <td>   11.404</td>\n",
       "</tr>\n",
       "</table>\n",
       "<table class=\"simpletable\">\n",
       "<tr>\n",
       "  <th>Omnibus:</th>       <td> 5.930</td> <th>  Durbin-Watson:     </th> <td>   2.177</td>\n",
       "</tr>\n",
       "<tr>\n",
       "  <th>Prob(Omnibus):</th> <td> 0.052</td> <th>  Jarque-Bera (JB):  </th> <td>   2.417</td>\n",
       "</tr>\n",
       "<tr>\n",
       "  <th>Skew:</th>          <td>-0.060</td> <th>  Prob(JB):          </th> <td>   0.299</td>\n",
       "</tr>\n",
       "<tr>\n",
       "  <th>Kurtosis:</th>      <td> 2.070</td> <th>  Cond. No.          </th> <td>1.36e+04</td>\n",
       "</tr>\n",
       "</table><br/><br/>Notes:<br/>[1] R² is computed without centering (uncentered) since the model does not contain a constant.<br/>[2] Standard Errors assume that the covariance matrix of the errors is correctly specified.<br/>[3] The condition number is large, 1.36e+04. This might indicate that there are<br/>strong multicollinearity or other numerical problems."
      ],
      "text/plain": [
       "<class 'statsmodels.iolib.summary.Summary'>\n",
       "\"\"\"\n",
       "                                 OLS Regression Results                                \n",
       "=======================================================================================\n",
       "Dep. Variable:             crime_rate   R-squared (uncentered):                   0.971\n",
       "Model:                            OLS   Adj. R-squared (uncentered):              0.968\n",
       "Method:                 Least Squares   F-statistic:                              286.6\n",
       "Date:                Sun, 16 Oct 2022   Prob (F-statistic):                    4.30e-43\n",
       "Time:                        16:22:16   Log-Likelihood:                         -244.34\n",
       "No. Observations:                  66   AIC:                                      502.7\n",
       "Df Residuals:                      59   BIC:                                      518.0\n",
       "Df Model:                           7                                                  \n",
       "Covariance Type:            nonrobust                                                  \n",
       "==================================================================================\n",
       "                     coef    std err          t      P>|t|      [0.025      0.975]\n",
       "----------------------------------------------------------------------------------\n",
       "land_area          0.0005      0.001      0.714      0.478      -0.001       0.002\n",
       "percent_city       0.0916      0.077      1.186      0.240      -0.063       0.246\n",
       "percent_senior     0.3200      0.400      0.801      0.426      -0.479       1.120\n",
       "physicians        -0.0058      0.003     -1.929      0.059      -0.012       0.000\n",
       "graduates          0.4889      0.109      4.482      0.000       0.271       0.707\n",
       "income             0.0016      0.001      2.062      0.044    4.61e-05       0.003\n",
       "region             8.3830      1.510      5.553      0.000       5.362      11.404\n",
       "==============================================================================\n",
       "Omnibus:                        5.930   Durbin-Watson:                   2.177\n",
       "Prob(Omnibus):                  0.052   Jarque-Bera (JB):                2.417\n",
       "Skew:                          -0.060   Prob(JB):                        0.299\n",
       "Kurtosis:                       2.070   Cond. No.                     1.36e+04\n",
       "==============================================================================\n",
       "\n",
       "Notes:\n",
       "[1] R² is computed without centering (uncentered) since the model does not contain a constant.\n",
       "[2] Standard Errors assume that the covariance matrix of the errors is correctly specified.\n",
       "[3] The condition number is large, 1.36e+04. This might indicate that there are\n",
       "strong multicollinearity or other numerical problems.\n",
       "\"\"\""
      ]
     },
     "execution_count": 57,
     "metadata": {},
     "output_type": "execute_result"
    }
   ],
   "source": [
    "import statsmodels.api as ssm\n",
    "\n",
    "train_x = ssm.add_constant(X_train)\n",
    "model = ssm.OLS(y_train,X_train).fit()\n",
    "preds = model.summary()\n",
    "preds"
   ]
  },
  {
   "cell_type": "code",
   "execution_count": 58,
   "id": "f746455a",
   "metadata": {},
   "outputs": [
    {
     "name": "stdout",
     "output_type": "stream",
     "text": [
      "    crime_rate\n",
      "1    59.315206\n",
      "2    64.098406\n",
      "3    57.470112\n",
      "4    83.171578\n",
      "5    43.357715\n",
      "6    70.627161\n",
      "7    53.447745\n",
      "8    61.086725\n",
      "9    44.288232\n",
      "10   12.041631\n",
      "11   60.886150\n",
      "12   41.104038\n",
      "13   58.864009\n",
      "14   58.536657\n",
      "15   52.154065\n",
      "16   63.326051\n",
      "17   56.383074\n",
      "18   62.489583\n",
      "19   43.123654\n",
      "20   69.153582\n",
      "21   61.089786\n",
      "22   42.299383\n",
      "23   60.782805\n",
      "24   52.872748\n",
      "25   43.263244\n",
      "26   71.129066\n",
      "27   54.968459\n",
      "28   72.848709\n",
      "29   50.660419\n",
      "30   53.429022\n",
      "31   67.561650\n",
      "32   59.399414\n",
      "33   42.746038\n"
     ]
    }
   ],
   "source": [
    "from sklearn import linear_model\n",
    "from sklearn import metrics\n",
    "lin   = linear_model.LinearRegression()\n",
    "lin.fit(X_train, y_train)\n",
    "preds = lin.predict(X_test)\n",
    "indexes = len(list(preds)) #generating index\n",
    "\n",
    "\n",
    "crime_rate_predictions = pd.DataFrame(data = preds, index=range(1,indexes+1),columns=['crime_rate'])\n",
    "print(crime_rate_predictions)"
   ]
  },
  {
   "cell_type": "code",
   "execution_count": null,
   "id": "4a914820",
   "metadata": {},
   "outputs": [],
   "source": []
  }
 ],
 "metadata": {
  "kernelspec": {
   "display_name": "Python 3 (ipykernel)",
   "language": "python",
   "name": "python3"
  },
  "language_info": {
   "codemirror_mode": {
    "name": "ipython",
    "version": 3
   },
   "file_extension": ".py",
   "mimetype": "text/x-python",
   "name": "python",
   "nbconvert_exporter": "python",
   "pygments_lexer": "ipython3",
   "version": "3.9.7"
  }
 },
 "nbformat": 4,
 "nbformat_minor": 5
}
